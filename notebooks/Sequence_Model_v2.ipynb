{
 "cells": [
  {
   "cell_type": "markdown",
   "id": "alternative-advocacy",
   "metadata": {},
   "source": [
    "# Sequence Model for Primer Design\n",
    "* Reference\n",
    "    * [기초부터 시작하는 NLP: SEQUENCE TO SEQUENCE 네트워크와 ATTENTION을 이용한 번역](https://tutorials.pytorch.kr/intermediate/seq2seq_translation_tutorial.html)\n",
    "    * [딥 러닝을 이용한 자연어처리 입문 - 1) 시퀀스-투-시퀀스(Sequence-to-Sequence, seq2seq)](https://wikidocs.net/24996)\n",
    "* TODO\n",
    "    * cuda\n",
    "    * attention decoder"
   ]
  },
  {
   "cell_type": "code",
   "execution_count": 50,
   "id": "medical-scott",
   "metadata": {},
   "outputs": [
    {
     "name": "stdout",
     "output_type": "stream",
     "text": [
      "The autoreload extension is already loaded. To reload it, use:\n",
      "  %reload_ext autoreload\n"
     ]
    }
   ],
   "source": [
    "%load_ext autoreload\n",
    "%autoreload 2"
   ]
  },
  {
   "cell_type": "code",
   "execution_count": 51,
   "id": "buried-space",
   "metadata": {},
   "outputs": [],
   "source": [
    "import pandas as pd\n",
    "import xlrd\n",
    "import numpy as np\n",
    "import os"
   ]
  },
  {
   "cell_type": "code",
   "execution_count": 52,
   "id": "graduate-hardware",
   "metadata": {},
   "outputs": [],
   "source": [
    "from __future__ import unicode_literals, print_function, division\n",
    "# from io import open\n",
    "import unicodedata\n",
    "import string\n",
    "import re\n",
    "import random\n",
    "\n",
    "import torch\n",
    "import torch.nn as nn\n",
    "from torch import optim\n",
    "import torch.nn.functional as F"
   ]
  },
  {
   "cell_type": "code",
   "execution_count": 53,
   "id": "breeding-credit",
   "metadata": {},
   "outputs": [],
   "source": [
    "import json\n",
    "import os"
   ]
  },
  {
   "cell_type": "code",
   "execution_count": 54,
   "id": "disturbed-mouth",
   "metadata": {},
   "outputs": [],
   "source": [
    "from model import *\n",
    "from run import *"
   ]
  },
  {
   "cell_type": "code",
   "execution_count": 55,
   "id": "hollywood-criticism",
   "metadata": {},
   "outputs": [],
   "source": [
    "device = torch.device('cpu')\n",
    "# device = torch.device('cuda' if torch.cuda.is_available() else 'cpu')"
   ]
  },
  {
   "cell_type": "markdown",
   "id": "filled-commitment",
   "metadata": {},
   "source": [
    "## Import Data"
   ]
  },
  {
   "cell_type": "code",
   "execution_count": 56,
   "id": "different-metro",
   "metadata": {},
   "outputs": [],
   "source": [
    "file_path = './data'\n",
    "file_name = '연중과제 streptococcus pyogenes primer design 210216.xlsx'"
   ]
  },
  {
   "cell_type": "code",
   "execution_count": 57,
   "id": "charitable-accuracy",
   "metadata": {},
   "outputs": [],
   "source": [
    "data_excel = pd.read_excel(os.path.join(file_path, file_name)\n",
    "                        , header = 2  # 2번째 행을 헤더로 사용\n",
    "                          )"
   ]
  },
  {
   "cell_type": "code",
   "execution_count": null,
   "id": "golden-japanese",
   "metadata": {},
   "outputs": [],
   "source": [
    "data_excel.head()"
   ]
  },
  {
   "cell_type": "code",
   "execution_count": 59,
   "id": "chicken-abortion",
   "metadata": {},
   "outputs": [
    {
     "data": {
      "text/plain": [
       "Index(['Total #', '#', 'primer', 'sequence', 'location', 'Length', 'Tm', 'GC%',\n",
       "       'product size', 'product  sequence', 'ct', 'RFU', 'ct.1', 'RFU.1',\n",
       "       'ct.2', 'RFU.2', 'gene', 'gene 전체 서열', '나온 개수', 'Unnamed: 19',\n",
       "       'Unnamed: 20', 'Unnamed: 21', 'Unnamed: 22', 'Unnamed: 23',\n",
       "       'Unnamed: 24', 'Unnamed: 25', 'Unnamed: 26'],\n",
       "      dtype='object')"
      ]
     },
     "execution_count": 59,
     "metadata": {},
     "output_type": "execute_result"
    }
   ],
   "source": [
    "data_excel.keys()"
   ]
  },
  {
   "cell_type": "markdown",
   "id": "creative-polymer",
   "metadata": {},
   "source": [
    "'#': id   \n",
    "product sequence : 분석에 사용할 sequence"
   ]
  },
  {
   "cell_type": "code",
   "execution_count": 60,
   "id": "authorized-crest",
   "metadata": {},
   "outputs": [],
   "source": [
    "prod_seq = data_excel[['#', 'product  sequence']]"
   ]
  },
  {
   "cell_type": "code",
   "execution_count": null,
   "id": "subtle-concrete",
   "metadata": {},
   "outputs": [],
   "source": [
    "prod_seq"
   ]
  },
  {
   "cell_type": "code",
   "execution_count": 62,
   "id": "dental-boost",
   "metadata": {},
   "outputs": [],
   "source": [
    "prod_seq = prod_seq.dropna(axis=0)"
   ]
  },
  {
   "cell_type": "code",
   "execution_count": 63,
   "id": "steady-argentina",
   "metadata": {},
   "outputs": [],
   "source": [
    "prod_seq = prod_seq.astype({'#':'int32'})"
   ]
  },
  {
   "cell_type": "code",
   "execution_count": null,
   "id": "exact-insulation",
   "metadata": {},
   "outputs": [],
   "source": [
    "prod_seq"
   ]
  },
  {
   "cell_type": "code",
   "execution_count": 65,
   "id": "thick-theta",
   "metadata": {},
   "outputs": [],
   "source": [
    "prod_seq = prod_seq.set_index('#', drop=True)  # COLUMN NAME 통일"
   ]
  },
  {
   "cell_type": "code",
   "execution_count": null,
   "id": "liquid-throat",
   "metadata": {},
   "outputs": [],
   "source": [
    "prod_seq_col = prod_seq['product  sequence']\n",
    "prod_seq_col"
   ]
  },
  {
   "cell_type": "code",
   "execution_count": 67,
   "id": "harmful-roots",
   "metadata": {},
   "outputs": [
    {
     "data": {
      "text/plain": [
       "198"
      ]
     },
     "execution_count": 67,
     "metadata": {},
     "output_type": "execute_result"
    }
   ],
   "source": [
    "# Max Length 계산하기\n",
    "MAX_SEQ_LEN = max(prod_seq_col.apply(lambda x:len(x)))\n",
    "MAX_SEQ_LEN"
   ]
  },
  {
   "cell_type": "code",
   "execution_count": 68,
   "id": "ruled-introduction",
   "metadata": {},
   "outputs": [
    {
     "data": {
      "text/plain": [
       "86"
      ]
     },
     "execution_count": 68,
     "metadata": {},
     "output_type": "execute_result"
    }
   ],
   "source": [
    "# Min Length 계산하기\n",
    "min(prod_seq_col.apply(lambda x:len(x)))"
   ]
  },
  {
   "cell_type": "code",
   "execution_count": 69,
   "id": "hazardous-investigator",
   "metadata": {},
   "outputs": [],
   "source": [
    "fake_data = []"
   ]
  },
  {
   "cell_type": "code",
   "execution_count": 70,
   "id": "collectible-andorra",
   "metadata": {},
   "outputs": [
    {
     "data": {
      "text/plain": [
       "3"
      ]
     },
     "execution_count": 70,
     "metadata": {},
     "output_type": "execute_result"
    }
   ],
   "source": [
    "import random\n",
    "random.randint(0,4)"
   ]
  },
  {
   "cell_type": "code",
   "execution_count": 71,
   "id": "waiting-entrepreneur",
   "metadata": {},
   "outputs": [],
   "source": [
    "bps = ['A','T','G','C']\n",
    "bp = 'ATGC' * 100\n",
    "fake_data = []\n",
    "start = 0\n",
    "end = 80\n",
    "\n",
    "for i in range(50):\n",
    "    sPos = random.randint(start, start+10)\n",
    "    ePos = random.randint(end, end+30)\n",
    "    fake_data += [bp[sPos:ePos]]\n",
    "#     now = random.randint(start, end)\n",
    "#     fake_data += [bp[now:now+20]]"
   ]
  },
  {
   "cell_type": "markdown",
   "id": "naughty-championship",
   "metadata": {},
   "source": [
    "## Integer and One-hot encoding"
   ]
  },
  {
   "cell_type": "code",
   "execution_count": 72,
   "id": "increasing-verse",
   "metadata": {},
   "outputs": [],
   "source": [
    "SOS_token = 1  # 0은 패딩\n",
    "EOS_token = 2\n",
    "\n",
    "class DictDNA:\n",
    "    def __init__(self, name):\n",
    "        self.name = name\n",
    "        self.word2index = {}\n",
    "        self.word2count = {}  \n",
    "        self.index2word = {0: \"PAD\", 1: \"SOS\", 2: \"EOS\"}\n",
    "        self.base_key = 3  # SOS 와 EOS 포함\n",
    "\n",
    "    def add_sequence(self, sequence):\n",
    "        # TODO k-mer\n",
    "        # word = base\n",
    "        for base in sequence:\n",
    "            self.add_base(base)\n",
    "\n",
    "    def add_base(self, base):\n",
    "        # SOS 넣기\n",
    "        if base not in self.word2index:\n",
    "            self.word2index[base] = self.base_key\n",
    "            self.word2count[base] = 1\n",
    "            self.index2word[self.base_key] = base\n",
    "            self.base_key += 1\n",
    "        else:\n",
    "            self.word2count[base] += 1"
   ]
  },
  {
   "cell_type": "markdown",
   "id": "internal-savannah",
   "metadata": {},
   "source": [
    "### DNA Dictoinary 테스트"
   ]
  },
  {
   "cell_type": "code",
   "execution_count": 73,
   "id": "cubic-participant",
   "metadata": {},
   "outputs": [],
   "source": [
    "d = DictDNA(\"dna\")"
   ]
  },
  {
   "cell_type": "code",
   "execution_count": 74,
   "id": "built-medicaid",
   "metadata": {},
   "outputs": [],
   "source": [
    "d.add_sequence('ACCTG')"
   ]
  },
  {
   "cell_type": "code",
   "execution_count": 75,
   "id": "ready-bumper",
   "metadata": {},
   "outputs": [
    {
     "data": {
      "text/plain": [
       "{'A': 3, 'C': 4, 'T': 5, 'G': 6}"
      ]
     },
     "execution_count": 75,
     "metadata": {},
     "output_type": "execute_result"
    }
   ],
   "source": [
    "d.word2index"
   ]
  },
  {
   "cell_type": "markdown",
   "id": "corresponding-stations",
   "metadata": {},
   "source": [
    "### Prepare Data\n",
    "input = target?\n",
    "\n",
    "|  | src  | tar  |\n",
    "|--|------|------|\n",
    "|1 | AAT   |  AAT    |\n",
    "|2 | ACCT  |  ACCT   |\n"
   ]
  },
  {
   "cell_type": "code",
   "execution_count": 76,
   "id": "surprising-resistance",
   "metadata": {},
   "outputs": [],
   "source": [
    "def prepare_data(input_seqs, output_seqs, reverse=False, share_dic=False):\n",
    "    \"\"\"\n",
    "    input_seqs: eg. ['AAT', 'ACCT']\n",
    "    output_seqs: eg. ['AAT', 'ACCT'] \n",
    "    \"\"\"\n",
    "    print('Preparing data...')\n",
    "    \n",
    "    input_dic = DictDNA('src')\n",
    "    output_dic = DictDNA('tar')\n",
    "    pairs = []\n",
    "    \n",
    "    for pair in zip(input_seqs, output_seqs):\n",
    "        pairs.append(pair)\n",
    "        input_dic.add_sequence(pair[0])\n",
    "        if share_dic:\n",
    "            input_dic.add_sequence(pair[0])\n",
    "            input_dic.add_sequence(pair[1])\n",
    "            \n",
    "        if not share_dic:\n",
    "            output_dic.add_sequence(pair[1])\n",
    "        \n",
    "#     print(pairs)\n",
    "    if share_dic:\n",
    "        return input_dic, input_dic, pairs\n",
    "    \n",
    "    return input_dic, output_dic, pairs"
   ]
  },
  {
   "cell_type": "code",
   "execution_count": 77,
   "id": "acting-switch",
   "metadata": {},
   "outputs": [
    {
     "name": "stdout",
     "output_type": "stream",
     "text": [
      "Preparing data...\n"
     ]
    }
   ],
   "source": [
    "# 샘플 데이터\n",
    "input_dic_1, output_dic_1, pairs = prepare_data(['ACCT', 'ATG'], ['TGGA', 'TAC'])"
   ]
  },
  {
   "cell_type": "code",
   "execution_count": 78,
   "id": "smoking-concern",
   "metadata": {},
   "outputs": [
    {
     "data": {
      "text/plain": [
       "{'A': 3, 'C': 4, 'T': 5, 'G': 6}"
      ]
     },
     "execution_count": 78,
     "metadata": {},
     "output_type": "execute_result"
    }
   ],
   "source": [
    "input_dic_1.word2index"
   ]
  },
  {
   "cell_type": "code",
   "execution_count": 79,
   "id": "cathedral-patrick",
   "metadata": {},
   "outputs": [
    {
     "data": {
      "text/plain": [
       "4"
      ]
     },
     "execution_count": 79,
     "metadata": {},
     "output_type": "execute_result"
    }
   ],
   "source": [
    "input_dic_1.word2index['C']"
   ]
  },
  {
   "cell_type": "code",
   "execution_count": 80,
   "id": "broad-abortion",
   "metadata": {},
   "outputs": [
    {
     "name": "stdout",
     "output_type": "stream",
     "text": [
      "Preparing data...\n"
     ]
    }
   ],
   "source": [
    "# 실제 데이터\n",
    "input_dic, output_dic, pairs = prepare_data(prod_seq_col, prod_seq_col, share_dic=True)"
   ]
  },
  {
   "cell_type": "code",
   "execution_count": 81,
   "id": "removed-question",
   "metadata": {},
   "outputs": [
    {
     "data": {
      "text/plain": [
       "{'T': 3, 'G': 4, 'C': 5, 'A': 6}"
      ]
     },
     "execution_count": 81,
     "metadata": {},
     "output_type": "execute_result"
    }
   ],
   "source": [
    "input_dic.word2index"
   ]
  },
  {
   "cell_type": "code",
   "execution_count": 82,
   "id": "subtle-senegal",
   "metadata": {},
   "outputs": [],
   "source": [
    "def indexes_from_seq(dic, seq):\n",
    "    return [dic.word2index[base] for base in seq]  # 차원 늘리기 필요? (seq_len, emb_dim) -> (1, seq_len, emb_dim)\n",
    "\n",
    "\n",
    "def tensor_from_seq(dic, seq, device):\n",
    "    indexes = [SOS_token]\n",
    "    indexes += indexes_from_seq(dic, seq)\n",
    "    indexes.append(EOS_token)\n",
    "    return torch.tensor(indexes, dtype=torch.long, device=device) #.view(-1, 1)\n",
    "\n",
    "\n",
    "def tensors_from_pair(input_dic, output_dic, pair, device):\n",
    "    input_tensor = tensor_from_seq(input_dic, pair[0], device)\n",
    "    target_tensor = tensor_from_seq(output_dic, pair[1], device)\n",
    "    return (input_tensor, target_tensor)"
   ]
  },
  {
   "cell_type": "code",
   "execution_count": 83,
   "id": "fabulous-expert",
   "metadata": {},
   "outputs": [],
   "source": [
    "(src_tensor, tar_tensor) = tensors_from_pair(input_dic, output_dic, pairs[0], device)"
   ]
  },
  {
   "cell_type": "code",
   "execution_count": 84,
   "id": "happy-swift",
   "metadata": {},
   "outputs": [
    {
     "data": {
      "text/plain": [
       "tensor([1, 3, 3, 4, 3, 3, 5, 6, 3, 4, 6, 3, 4, 5, 5, 5, 4, 3, 5, 3, 6, 3, 3, 6,\n",
       "        6, 6, 4, 4, 3, 5, 4, 6, 3, 6, 6, 4, 5, 6, 3, 6, 3, 3, 4, 5, 6, 6, 5, 3,\n",
       "        6, 3, 3, 3, 6, 5, 3, 3, 6, 4, 6, 3, 5, 6, 6, 6, 3, 4, 6, 6, 6, 4, 6, 4,\n",
       "        5, 3, 5, 3, 3, 3, 3, 4, 4, 4, 6, 6, 6, 6, 6, 6, 6, 3, 5, 3, 3, 6, 6, 6,\n",
       "        4, 6, 3, 4, 3, 3, 6, 3, 3, 5, 3, 3, 6, 5, 3, 4, 5, 3, 4, 4, 3, 3, 3, 3,\n",
       "        4, 6, 6, 4, 3, 3, 3, 6, 3, 6, 6, 5, 4, 5, 3, 5, 6, 6, 6, 3, 3, 3, 5, 3,\n",
       "        4, 3, 3, 4, 6, 5, 3, 6, 3, 4, 3, 3, 3, 3, 5, 4, 6, 6, 4, 6, 6, 4, 6, 5,\n",
       "        5, 3, 6, 6, 3, 4, 6, 3, 3, 4, 6, 4, 5, 6, 6, 6, 6, 3, 5, 6, 4, 6, 5, 5,\n",
       "        6, 6, 6, 6, 3, 5, 6, 2])"
      ]
     },
     "execution_count": 84,
     "metadata": {},
     "output_type": "execute_result"
    }
   ],
   "source": [
    "src_tensor"
   ]
  },
  {
   "cell_type": "markdown",
   "id": "legal-security",
   "metadata": {},
   "source": [
    "# Modeling\n",
    "Model parameter"
   ]
  },
  {
   "cell_type": "code",
   "execution_count": 85,
   "id": "independent-pakistan",
   "metadata": {},
   "outputs": [
    {
     "data": {
      "text/plain": [
       "device(type='cpu')"
      ]
     },
     "execution_count": 85,
     "metadata": {},
     "output_type": "execute_result"
    }
   ],
   "source": [
    "device"
   ]
  },
  {
   "cell_type": "markdown",
   "id": "taken-overview",
   "metadata": {},
   "source": [
    "## Encoder & Decoder"
   ]
  },
  {
   "attachments": {
    "7bc09d3c-2993-4c8f-8ebb-bbc07f4a26b5.png": {
     "image/png": "[encoded data removed]"
    }
   },
   "cell_type": "markdown",
   "id": "graduate-blind",
   "metadata": {},
   "source": [
    "### Encoder   \n",
    "![image.png](attachment:7bc09d3c-2993-4c8f-8ebb-bbc07f4a26b5.png)"
   ]
  },
  {
   "cell_type": "code",
   "execution_count": 86,
   "id": "excessive-anthony",
   "metadata": {},
   "outputs": [],
   "source": [
    "class EncoderRNN(nn.Module):\n",
    "    def __init__(self, input_dim, emb_dim, hidn_dim):\n",
    "        super(EncoderRNN, self).__init__()\n",
    "        self.hidn_dim = hidn_dim\n",
    "        self.embedding = nn.Embedding(input_dim, emb_dim, padding_idx=0)  # one-hot 사용하면 embedding layer 사용 X, TODO padding_idx\n",
    "        self.lstm = nn.LSTM(emb_dim, hidn_dim, batch_first=True)  # LSTM\n",
    "        # TOTO dropout\n",
    "        \n",
    "    def forward(self, inputs, prev_hidden, prev_cell):\n",
    "        \"\"\"\n",
    "        inputs: (batch_size, max_seq_len, hidn_dim)\n",
    "        prev_hidden: (batch_size, hidn_dim, hidn_dim)\n",
    "        embedded: (batch_size, seq_len, hidn_size)\n",
    "        output: (batch_size, seq_len, hidn_size)\n",
    "        hidden: (batch_size, seq_len, hidn_size)\n",
    "        cell: (batch_size, seq_len, hidn_size)\n",
    "        \"\"\"\n",
    "#         print('input size : %s' % str(inputs.size()))\n",
    "        embedded = self.embedding(inputs)\n",
    "#         print('embedding size : %s' % str(embedded.size()))\n",
    "#         print('prev_hidden size : %s' % str(prev_hidden.size()))\n",
    "        output, (hidden, cell) = self.lstm(embedded, (prev_hidden, prev_cell))\n",
    "#         print('output size : %s' % str(output.size()))\n",
    "#         print('hidden size : %s' % str(hidden.size()))\n",
    "        return output, hidden, cell"
   ]
  },
  {
   "attachments": {
    "336951d2-2c40-4538-96dd-98f7be73c799.png": {
     "image/png": "[encoded data removed]"
    }
   },
   "cell_type": "markdown",
   "id": "statewide-mobility",
   "metadata": {},
   "source": [
    "Decoder   \n",
    "![image.png](attachment:336951d2-2c40-4538-96dd-98f7be73c799.png)"
   ]
  },
  {
   "cell_type": "code",
   "execution_count": 87,
   "id": "postal-depth",
   "metadata": {},
   "outputs": [],
   "source": [
    "class DecoderRNN(nn.Module):\n",
    "    def __init__(self, output_dim, emb_dim, hidn_dim):\n",
    "        super(DecoderRNN, self).__init__()\n",
    "        self.hidn_dim = hidn_dim\n",
    "        self.embedding = nn.Embedding(output_dim, emb_dim)\n",
    "        self.lstm = nn.LSTM(emb_dim, hidn_dim, batch_first=True)\n",
    "        self.out = nn.Linear(hidn_dim, output_dim)\n",
    "#         self.softmax = nn.LogSoftmax(dim=0)  # dim은 배치 기준인듯, Softmax와 차이? dim?\n",
    "    def forward(self, inputs, prev_hidden, prev_cell):\n",
    "        \"\"\"\n",
    "        * use batch_first = True\n",
    "        inputs: (batch_size, 1)\n",
    "        embedded: (batch_size, 1, hidn_size)\n",
    "        output: (batch_size, 1, hidn_size)\n",
    "        hidden: (batch_size, 1, hidn_size)\n",
    "        cell: (batch_size, 1, hidn_size)\n",
    "        \"\"\"\n",
    "        inputs = inputs.unsqueeze(1)\n",
    "#         print('inputs')\n",
    "#         print(inputs)\n",
    "#         print('inputs size : %s' % str(inputs.size()))\n",
    "        embedded = self.embedding(inputs)\n",
    "#         print('prev_hidden size : %s' % str(prev_hidden.size()))\n",
    "        output = F.relu(embedded)  # nn.ReLU랑 차이점?\n",
    "        output, (hidden, cell) = self.lstm(output, (prev_hidden, prev_cell))\n",
    "#         print('output size : %s' % str(output.size()))\n",
    "#         output = self.softmax(self.out(output))\n",
    "#         print('output-lstm size : %s' % str(output.size()))\n",
    "#         print(output)\n",
    "        output = self.out(output)\n",
    "#         print('output size : %s' % str(output.size()))\n",
    "#         print('hidden size : %s' % str(hidden.size()))\n",
    "        output = output.squeeze(1)\n",
    "#         print('output size : %s' % str(output.size()))\n",
    "#         from IPython import embed; embed()\n",
    "        return output, hidden, cell"
   ]
  },
  {
   "cell_type": "markdown",
   "id": "induced-departure",
   "metadata": {},
   "source": [
    "### Attention Decoder \n",
    "![image](https://tutorials.pytorch.kr/_images/attention-decoder-network.png)"
   ]
  },
  {
   "cell_type": "code",
   "execution_count": 88,
   "id": "special-estimate",
   "metadata": {},
   "outputs": [],
   "source": [
    "# # DecoderRNN 대신 사용\n",
    "# # Attention layer가 추가된 Decoder layer를 생성\n",
    "# class AttnDecoderRNN(nn.Module):\n",
    "#     def __init__(self, seq_len, hidden_size, output_size, dropout=0.5):\n",
    "#         super(AttnDecoderRNN, self).__init__()\n",
    "#         self.hidden_size = hidden_size\n",
    "#         self.output_size = output_size\n",
    "#         self.dropout = nn.Dropout(dropout)\n",
    "#         self.seq_len = seq_len\n",
    "        \n",
    "# #         self.embedding = nn.Embedding(self.output_size, self.hidden_size)  # one-hot 사용하면 embedding layer 사용 X\n",
    "#         self.attn = nn.Linear(self.hidden_size * 2, self.seq_len)\n",
    "#         self.attn_comb = nn.Linear(self.hidden_size * 2, self.hidden_size)\n",
    "        \n",
    "#         self.gru = nn.GRU(hidden_size, hidden_size, batch_first=True)\n",
    "#         self.out = nn.Linear(hidden_size, output_size)\n",
    "#         self.softmax = nn.LogSoftmax(dim=1)\n",
    "        \n",
    "#     def forward(self, inputs, hidden, encoder_outputs):\n",
    "# #         embedded = self.embedding(inputs)  # Autoregressive -> .view(1, 1, -1) (1, 1, 남는 차원)으로 reshape\n",
    "        \n",
    "#         # 1st attention layer\n",
    "#         # 두 layer를 어떻게 linear layer의 input으로 넣을건지 -> concat\n",
    "#         attn_weight = self.softmax(self.attn(torch.cat(inputs, hidden, 1)))\n",
    "#         # encoder_outputs에 attention 적용\n",
    "#         # bmm: batch matrix multiplication\n",
    "#         attn_applied = torch.bmm(attn_weight, encoder_outputs, 1)\n",
    "#         attn_combined = self.attn_comb(torch.cat(embedded, attn_applied, 1))\n",
    "        \n",
    "#         output = F.ReLU(attn_combined)  # nn.ReLU랑 차이점?\n",
    "#         output, hidden = self.gru(output, hidden)\n",
    "#         output = self.softmax(self.out(output))\n",
    "        \n",
    "#         return output, hidden, attn_weight\n",
    "        \n",
    "#     def init_hidden(self):\n",
    "#         return torch.zeros(1, self.seq_len, self.hidden_size, device=device)  # device?"
   ]
  },
  {
   "cell_type": "markdown",
   "id": "potential-fossil",
   "metadata": {},
   "source": [
    "### Load Data"
   ]
  },
  {
   "cell_type": "code",
   "execution_count": 89,
   "id": "unusual-guitar",
   "metadata": {},
   "outputs": [],
   "source": [
    "# # input data\n",
    "# src_padded = nn.utils.rnn.pad_sequence(src_tensors, batch_first=True, padding_value=0)  # padding_value = (max_len 또는) SOS 뒤로 밀기\n",
    "# tar_padded = nn.utils.rnn.pad_sequence(tar_tensors, batch_first=True, padding_value=0)  # padding_value = (max_len 또는) SOS 뒤로 밀기"
   ]
  },
  {
   "cell_type": "code",
   "execution_count": 90,
   "id": "exterior-latvia",
   "metadata": {},
   "outputs": [
    {
     "name": "stdout",
     "output_type": "stream",
     "text": [
      "Preparing data...\n"
     ]
    }
   ],
   "source": [
    "# real data\n",
    "src_tensors = []\n",
    "tar_tensors = []\n",
    "\n",
    "input_dic, output_dic, pairs = prepare_data(prod_seq_col, prod_seq_col, share_dic=True)\n",
    "\n",
    "for pair in pairs:\n",
    "    (src_tensor, tar_tensor) = tensors_from_pair(input_dic_1, output_dic_1, pair, device)\n",
    "    src_tensors.append(src_tensor)\n",
    "    tar_tensors.append(tar_tensor)\n",
    "\n",
    "src_padded = nn.utils.rnn.pad_sequence(src_tensors, batch_first=True, padding_value=0)  # padding_value = (max_len 또는) SOS 뒤로 밀기\n",
    "tar_padded = nn.utils.rnn.pad_sequence(tar_tensors, batch_first=True, padding_value=0)  # padding_value = (max_len 또는) SOS 뒤로 밀기"
   ]
  },
  {
   "cell_type": "code",
   "execution_count": 91,
   "id": "suitable-russia",
   "metadata": {
    "tags": []
   },
   "outputs": [],
   "source": [
    "# # fake data\n",
    "# src_tensors = []\n",
    "# tar_tensors = []\n",
    "# # 샘플 데이터\n",
    "# input_dic_1, output_dic_1, pairs = prepare_data(fake_data, fake_data)\n",
    "\n",
    "# for pair in pairs:\n",
    "#     (src_tensor, tar_tensor) = tensors_from_pair(input_dic_1, output_dic_1, pair, device)\n",
    "#     src_tensors.append(src_tensor)\n",
    "#     tar_tensors.append(tar_tensor)\n",
    "\n",
    "# src_padded = nn.utils.rnn.pad_sequence(src_tensors, batch_first=True, padding_value=0)  # padding_value = (max_len 또는) SOS 뒤로 밀기\n",
    "# tar_padded = nn.utils.rnn.pad_sequence(tar_tensors, batch_first=True, padding_value=0)  # padding_value = (max_len 또는) SOS 뒤로 밀기"
   ]
  },
  {
   "cell_type": "code",
   "execution_count": 92,
   "id": "improving-remainder",
   "metadata": {},
   "outputs": [
    {
     "data": {
      "text/plain": [
       "tensor([1, 5, 5, 6, 5, 5, 4, 3, 5, 6, 3, 5, 6, 4, 4, 4, 6, 5, 4, 5, 3, 5, 5, 3,\n",
       "        3, 3, 6, 6, 5, 4, 6, 3, 5, 3, 3, 6, 4, 3, 5, 3, 5, 5, 6, 4, 3, 3, 4, 5,\n",
       "        3, 5, 5, 5, 3, 4, 5, 5, 3, 6, 3, 5, 4, 3, 3, 3, 5, 6, 3, 3, 3, 6, 3, 6,\n",
       "        4, 5, 4, 5, 5, 5, 5, 6, 6, 6, 3, 3, 3, 3, 3, 3, 3, 5, 4, 5, 5, 3, 3, 3,\n",
       "        6, 3, 5, 6, 5, 5, 3, 5, 5, 4, 5, 5, 3, 4, 5, 6, 4, 5, 6, 6, 5, 5, 5, 5,\n",
       "        6, 3, 3, 6, 5, 5, 5, 3, 5, 3, 3, 4, 6, 4, 5, 4, 3, 3, 3, 5, 5, 5, 4, 5,\n",
       "        6, 5, 5, 6, 3, 4, 5, 3, 5, 6, 5, 5, 5, 5, 4, 6, 3, 3, 6, 3, 3, 6, 3, 4,\n",
       "        4, 5, 3, 3, 5, 6, 3, 5, 5, 6, 3, 6, 4, 3, 3, 3, 3, 5, 4, 3, 6, 3, 4, 4,\n",
       "        3, 3, 3, 3, 5, 4, 3, 2])"
      ]
     },
     "execution_count": 92,
     "metadata": {},
     "output_type": "execute_result"
    }
   ],
   "source": [
    "src_padded[0]"
   ]
  },
  {
   "cell_type": "code",
   "execution_count": 93,
   "id": "daily-expression",
   "metadata": {},
   "outputs": [
    {
     "data": {
      "text/plain": [
       "tensor([[1, 3, 3,  ..., 6, 5, 2],\n",
       "        [1, 3, 4,  ..., 0, 0, 0],\n",
       "        [1, 5, 3,  ..., 0, 0, 0],\n",
       "        ...,\n",
       "        [1, 6, 3,  ..., 0, 0, 0],\n",
       "        [1, 3, 5,  ..., 0, 0, 0],\n",
       "        [1, 5, 3,  ..., 0, 0, 0]])"
      ]
     },
     "execution_count": 93,
     "metadata": {},
     "output_type": "execute_result"
    }
   ],
   "source": [
    "tar_padded"
   ]
  },
  {
   "cell_type": "code",
   "execution_count": 94,
   "id": "cloudy-hazard",
   "metadata": {},
   "outputs": [],
   "source": [
    "# Encoder / Decoder Test\n",
    "# hyperparameter\n",
    "batch_size = src_padded.size(0)\n",
    "max_seq_len = src_padded.size(1)\n",
    "emb_dim = 24\n",
    "vocab_size = 7\n",
    "hidn_dim = 64"
   ]
  },
  {
   "cell_type": "code",
   "execution_count": 95,
   "id": "better-respondent",
   "metadata": {},
   "outputs": [],
   "source": [
    "# layer\n",
    "encoder = EncoderRNN(vocab_size, emb_dim, hidn_dim)\n",
    "decoder = DecoderRNN(vocab_size, emb_dim, hidn_dim)"
   ]
  },
  {
   "cell_type": "code",
   "execution_count": 96,
   "id": "moved-order",
   "metadata": {},
   "outputs": [
    {
     "data": {
      "text/plain": [
       "<bound method Module.parameters of EncoderRNN(\n",
       "  (embedding): Embedding(7, 24, padding_idx=0)\n",
       "  (lstm): LSTM(24, 64, batch_first=True)\n",
       ")>"
      ]
     },
     "execution_count": 96,
     "metadata": {},
     "output_type": "execute_result"
    }
   ],
   "source": [
    "encoder.parameters"
   ]
  },
  {
   "cell_type": "code",
   "execution_count": 97,
   "id": "occupational-bidder",
   "metadata": {},
   "outputs": [
    {
     "data": {
      "text/plain": [
       "<bound method Module.parameters of DecoderRNN(\n",
       "  (embedding): Embedding(7, 24)\n",
       "  (lstm): LSTM(24, 64, batch_first=True)\n",
       "  (out): Linear(in_features=64, out_features=7, bias=True)\n",
       ")>"
      ]
     },
     "execution_count": 97,
     "metadata": {},
     "output_type": "execute_result"
    }
   ],
   "source": [
    "decoder.parameters"
   ]
  },
  {
   "cell_type": "markdown",
   "id": "medical-location",
   "metadata": {},
   "source": [
    "## Training"
   ]
  },
  {
   "cell_type": "markdown",
   "id": "dependent-contribution",
   "metadata": {},
   "source": [
    "전체 학습 과정은 다음과 같습니다:\n",
    "\n",
    "- 타이머 시작\n",
    "- optimizers와 criterion 초기화\n",
    "- 학습 쌍의 세트 생성\n",
    "- 도식화를 위한 빈 손실 배열 시작"
   ]
  },
  {
   "cell_type": "code",
   "execution_count": 108,
   "id": "declared-cruise",
   "metadata": {},
   "outputs": [],
   "source": [
    "# training parameters\n",
    "epochs = 5000"
   ]
  },
  {
   "cell_type": "code",
   "execution_count": null,
   "id": "severe-mechanics",
   "metadata": {},
   "outputs": [],
   "source": [
    "# train with iteration\n",
    "train_iters(encoder, decoder, src_padded, tar_padded, epochs, batch_size, device, \\\n",
    "            teacher_forcing_ratio=0.2, print_every=100, plot_every=10, learning_rate=1e-5)\n",
    "# learning rate가 커서 발산하면 loss가 감소하지 않고 유지될 수 있다."
   ]
  },
  {
   "cell_type": "code",
   "execution_count": null,
   "id": "occupational-shannon",
   "metadata": {},
   "outputs": [],
   "source": [
    "sentences = ['AAAAAAAA'*5, \n",
    "             'ATATATAA'*5,\n",
    "             'ATGCATGC'*5,\n",
    "             'ATGCATGC'*10]\n",
    "# batch inference 는 구현 안함\n",
    "batch_size_eval = 1\n",
    "# batch_size_eval = len(sentences)\n",
    "decoded_words = []\n",
    "\n",
    "for sent in sentences:\n",
    "    (src_tensor, tar_tensor) = tensors_from_pair(input_dic, input_dic, (sent, sent), device)\n",
    "    decoded_word = evaluate(encoder, decoder, src_tensor, tar_tensor, batch_size_eval, input_dic, device)\n",
    "    result_word = ''\n",
    "    for base in decoded_word:\n",
    "        result_word += base\n",
    "    decoded_words.append(result_word)"
   ]
  },
  {
   "cell_type": "code",
   "execution_count": null,
   "id": "collected-tiger",
   "metadata": {},
   "outputs": [],
   "source": [
    "decoded_words"
   ]
  }
 ],
 "metadata": {
  "kernelspec": {
   "display_name": "py37-primer",
   "language": "python",
   "name": "py37-primer"
  },
  "language_info": {
   "codemirror_mode": {
    "name": "ipython",
    "version": 3
   },
   "file_extension": ".py",
   "mimetype": "text/x-python",
   "name": "python",
   "nbconvert_exporter": "python",
   "pygments_lexer": "ipython3",
   "version": "3.7.10"
  }
 },
 "nbformat": 4,
 "nbformat_minor": 5
}
